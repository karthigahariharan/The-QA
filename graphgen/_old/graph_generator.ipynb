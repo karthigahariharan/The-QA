{
 "cells": [
  {
   "cell_type": "code",
   "execution_count": 73,
   "metadata": {},
   "outputs": [],
   "source": [
    "import import_ipynb\n",
    "from scattergraph import *\n",
    "from bargenerator import *\n",
    "from PieChart import *\n",
    "from timeseries import *\n",
    "#import timeseriesarea\n",
    "\n",
    "if __name__ == \"__main__\":\n",
    "    #Provide graph type: \n",
    "    # b- bar graph, s-scatterplot, p - piechart, t-time series\n",
    "    graph_type=\"t\"\n",
    "    feature = \"In\"\n",
    "    #pass only 2 countries for time series graph\n",
    "    countries = [\"United States\",\"United Kingdom\",\"Canada\"]\n",
    "    if graph_type==\"b\":\n",
    "        generate_bar(feature,countries)\n",
    "    elif graph_type==\"s\":\n",
    "        generate_scatterplot(feature,countries)\n",
    "    elif graph_type==\"p\":\n",
    "        generate_piechart(feature,countries)\n",
    "    elif graph_type==\"t\":\n",
    "        generate_timeseries(feature,countries)\n",
    "       \n",
    "        "
   ]
  },
  {
   "cell_type": "code",
   "execution_count": null,
   "metadata": {},
   "outputs": [],
   "source": []
  }
 ],
 "metadata": {
  "kernelspec": {
   "display_name": "Python 3",
   "language": "python",
   "name": "python3"
  },
  "language_info": {
   "codemirror_mode": {
    "name": "ipython",
    "version": 3
   },
   "file_extension": ".py",
   "mimetype": "text/x-python",
   "name": "python",
   "nbconvert_exporter": "python",
   "pygments_lexer": "ipython3",
   "version": "3.6.5"
  }
 },
 "nbformat": 4,
 "nbformat_minor": 2
}
